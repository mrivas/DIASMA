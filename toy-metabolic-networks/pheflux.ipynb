{
 "cells": [
  {
   "cell_type": "code",
   "execution_count": 1,
   "id": "f64b2ba1-b732-45bc-bcec-974e387eabe7",
   "metadata": {},
   "outputs": [],
   "source": [
    "from casadi import *"
   ]
  },
  {
   "cell_type": "code",
   "execution_count": 2,
   "id": "0eb92ccd-53b6-4ada-bed3-9dbbbd8edad0",
   "metadata": {},
   "outputs": [],
   "source": [
    "v1 = MX.sym(\"v1\")"
   ]
  },
  {
   "cell_type": "code",
   "execution_count": 3,
   "id": "2905ba33-8c93-43cc-aa84-b5aaf275d2f7",
   "metadata": {},
   "outputs": [],
   "source": [
    "v2,v3,v4=MX.sym(\"v2\"),MX.sym(\"v3\"),MX.sym(\"v4\")"
   ]
  },
  {
   "cell_type": "code",
   "execution_count": 6,
   "id": "1e074149-62a6-4249-b007-192446b3deca",
   "metadata": {},
   "outputs": [],
   "source": [
    "V = v1 + v2 + v3 + v4\n",
    "p1 = v1/V\n",
    "p2 = v2/V\n",
    "p3 = v3/V\n",
    "p4 = v4/V"
   ]
  },
  {
   "cell_type": "code",
   "execution_count": 21,
   "id": "e18b1474-456f-4b35-ab35-d3c20729885d",
   "metadata": {},
   "outputs": [],
   "source": [
    "def entropy_term(pi):\n",
    "    return if_else(pi == 0, 0, pi * log(pi))"
   ]
  },
  {
   "cell_type": "code",
   "execution_count": 22,
   "id": "bb32a886-d396-4902-b8c4-76b1927f23e2",
   "metadata": {},
   "outputs": [],
   "source": [
    "H = -entropy_term(p1)-entropy_term(p2)-entropy_term(p3)-entropy_term(p4)"
   ]
  },
  {
   "cell_type": "code",
   "execution_count": 23,
   "id": "3ff5ca95-f381-4334-97e8-20b28ce4411b",
   "metadata": {},
   "outputs": [],
   "source": [
    "MB_A = v1 - v2 - v3\n",
    "MB_B = v2 + v3 - v4"
   ]
  },
  {
   "cell_type": "code",
   "execution_count": 24,
   "id": "5fb3fb40-8f83-4a2a-82f0-fe35529215af",
   "metadata": {},
   "outputs": [],
   "source": [
    "nlp = {\n",
    "\"x\" : vertcat(v1,v2,v3,v4),\n",
    "\"f\" : -H,\n",
    "\"g\" : vertcat(MB_A,MB_B)\n",
    "}"
   ]
  },
  {
   "cell_type": "code",
   "execution_count": 25,
   "id": "e50e6e21-1a2d-4c9d-bcb5-cdc43bcf8850",
   "metadata": {},
   "outputs": [],
   "source": [
    "solver = nlpsol('solver', 'ipopt', nlp)"
   ]
  },
  {
   "cell_type": "code",
   "execution_count": 26,
   "id": "03969e9b-14ca-4f36-adb0-727e40e8d108",
   "metadata": {},
   "outputs": [
    {
     "name": "stdout",
     "output_type": "stream",
     "text": [
      "This is Ipopt version 3.14.11, running with linear solver MUMPS 5.4.1.\n",
      "\n",
      "Number of nonzeros in equality constraint Jacobian...:        5\n",
      "Number of nonzeros in inequality constraint Jacobian.:        0\n",
      "Number of nonzeros in Lagrangian Hessian.............:        6\n",
      "\n",
      "Total number of variables............................:        3\n",
      "                     variables with only lower bounds:        0\n",
      "                variables with lower and upper bounds:        3\n",
      "                     variables with only upper bounds:        0\n",
      "Total number of equality constraints.................:        2\n",
      "Total number of inequality constraints...............:        0\n",
      "        inequality constraints with only lower bounds:        0\n",
      "   inequality constraints with lower and upper bounds:        0\n",
      "        inequality constraints with only upper bounds:        0\n",
      "\n",
      "iter    objective    inf_pr   inf_du lg(mu)  ||d||  lg(rg) alpha_du alpha_pr  ls\n",
      "   0 -1.1012474e+00 1.00e-02 1.15e-01  -1.0 0.00e+00    -  0.00e+00 0.00e+00   0\n",
      "   1 -1.1186141e+00 2.08e-16 2.49e-01  -1.0 1.09e-01    -  9.90e-01 1.00e+00f  1\n",
      "   2 -1.1927373e+00 4.44e-16 1.50e-01  -1.0 7.06e-01    -  9.99e-01 1.00e+00f  1\n",
      "   3 -1.2332244e+00 4.44e-16 6.01e-02  -2.5 5.79e-01    -  5.98e-01 1.00e+00f  1\n",
      "   4 -1.3159300e+00 0.00e+00 2.24e-02  -2.5 2.18e+00    -  1.00e+00 1.00e+00f  1\n",
      "   5 -1.3295258e+00 0.00e+00 2.68e-03  -3.8 1.28e+00    -  7.50e-01 1.00e+00f  1\n",
      "   6 -1.3296613e+00 0.00e+00 1.82e-05  -3.8 1.41e-01    -  1.00e+00 1.00e+00f  1\n",
      "   7 -1.3296613e+00 0.00e+00 1.80e-09  -5.7 1.42e-03    -  1.00e+00 1.00e+00f  1\n",
      "   8 -1.3296613e+00 0.00e+00 2.53e-15  -8.6 1.69e-06    -  1.00e+00 1.00e+00f  1\n",
      "\n",
      "Number of Iterations....: 8\n",
      "\n",
      "                                   (scaled)                 (unscaled)\n",
      "Objective...............:  -1.3296613488547582e+00   -1.3296613488547582e+00\n",
      "Dual infeasibility......:   2.5295804247317892e-15    2.5295804247317892e-15\n",
      "Constraint violation....:   0.0000000000000000e+00    0.0000000000000000e+00\n",
      "Variable bound violation:   0.0000000000000000e+00    0.0000000000000000e+00\n",
      "Complementarity.........:   2.5065483742279833e-09    2.5065483742279833e-09\n",
      "Overall NLP error.......:   2.5065483742279833e-09    2.5065483742279833e-09\n",
      "\n",
      "\n",
      "Number of objective function evaluations             = 9\n",
      "Number of objective gradient evaluations             = 9\n",
      "Number of equality constraint evaluations            = 9\n",
      "Number of inequality constraint evaluations          = 0\n",
      "Number of equality constraint Jacobian evaluations   = 9\n",
      "Number of inequality constraint Jacobian evaluations = 0\n",
      "Number of Lagrangian Hessian evaluations             = 8\n",
      "Total seconds in IPOPT                               = 0.006\n",
      "\n",
      "EXIT: Optimal Solution Found.\n",
      "      solver  :   t_proc      (avg)   t_wall      (avg)    n_eval\n",
      "       nlp_f  |  33.00us (  3.67us)  33.79us (  3.75us)         9\n",
      "       nlp_g  |  69.00us (  7.67us)  23.42us (  2.60us)         9\n",
      "  nlp_grad_f  |  95.00us (  8.64us)  76.92us (  6.99us)        11\n",
      "  nlp_hess_l  | 223.00us ( 27.88us) 218.62us ( 27.33us)         8\n",
      "   nlp_jac_g  |  39.00us (  3.90us)  35.42us (  3.54us)        10\n",
      "       total  |   6.20ms (  6.20ms)   6.13ms (  6.13ms)         1\n"
     ]
    }
   ],
   "source": [
    "solution = solver(x0=[10,10,0,10],lbg=0,ubg=0,lbx=[10,0,0,0],ubx=[10,1000,1000,1000])"
   ]
  },
  {
   "cell_type": "code",
   "execution_count": 27,
   "id": "34a663c2-41e6-413e-933e-b372c1d12888",
   "metadata": {},
   "outputs": [
    {
     "name": "stdout",
     "output_type": "stream",
     "text": [
      "{'f': DM(-1.32966), 'g': DM([0, 0]), 'lam_g': DM([-0.00770164, 0.00770164]), 'lam_p': DM(0x0), 'lam_x': DM([7.46722e-10, -4.98791e-10, -4.98541e-10, -2.48059e-10]), 'x': DM([10, 5, 5, 10])}\n"
     ]
    }
   ],
   "source": [
    "print(solution)"
   ]
  },
  {
   "cell_type": "code",
   "execution_count": 28,
   "id": "b6aa6ab2-2e94-4a9c-8d6a-8b42e657bf5f",
   "metadata": {},
   "outputs": [
    {
     "name": "stdout",
     "output_type": "stream",
     "text": [
      "[10, 5, 5, 10]\n"
     ]
    }
   ],
   "source": [
    "print(solution[\"x\"])"
   ]
  },
  {
   "cell_type": "code",
   "execution_count": null,
   "id": "5338e247-1689-4ba6-ab5a-cfd8bb5ee229",
   "metadata": {},
   "outputs": [],
   "source": []
  }
 ],
 "metadata": {
  "kernelspec": {
   "display_name": "Python 3 (ipykernel)",
   "language": "python",
   "name": "python3"
  },
  "language_info": {
   "codemirror_mode": {
    "name": "ipython",
    "version": 3
   },
   "file_extension": ".py",
   "mimetype": "text/x-python",
   "name": "python",
   "nbconvert_exporter": "python",
   "pygments_lexer": "ipython3",
   "version": "3.9.6"
  }
 },
 "nbformat": 4,
 "nbformat_minor": 5
}
