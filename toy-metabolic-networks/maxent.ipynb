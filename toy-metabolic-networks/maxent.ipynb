{
 "cells": [
  {
   "cell_type": "markdown",
   "id": "aa4939d5",
   "metadata": {
    "id": "aa4939d5"
   },
   "source": [
    "# Using MaxEnt to compute fluxes in a Toy Network\n",
    "\n",
    "The Toy Network depicted in Figure 1.2.A can be solved using the [`CasADi`](https://web.casadi.org/) library. To install `CasADi` open a terminal and execute:"
   ]
  },
  {
   "cell_type": "markdown",
   "id": "404519f0",
   "metadata": {
    "id": "404519f0"
   },
   "source": [
    "`pip install casadi`"
   ]
  },
  {
   "cell_type": "markdown",
   "id": "ad56a6ea",
   "metadata": {
    "id": "ad56a6ea"
   },
   "source": [
    "Make sure to install version `3.6.0` (as presented above) as later versions conflict with the non-linear programming solver `ipopt`, which `CasADi` uses to maximize the entropy. After installing `CasADi`, come back to this jupyter notebook and load `CasADi` functions."
   ]
  },
  {
   "cell_type": "code",
   "execution_count": 1,
   "id": "f78e7551",
   "metadata": {
    "id": "f78e7551"
   },
   "outputs": [],
   "source": [
    "from casadi import *"
   ]
  },
  {
   "cell_type": "markdown",
   "id": "902f807a",
   "metadata": {
    "id": "902f807a"
   },
   "source": [
    "Define the variables for each reaction flux:"
   ]
  },
  {
   "cell_type": "code",
   "execution_count": 2,
   "id": "3697e729",
   "metadata": {
    "id": "3697e729"
   },
   "outputs": [],
   "source": [
    "v1, v2, v3, v4 = MX.sym('v1'), MX.sym('v2'), MX.sym('v3'), MX.sym('v4')"
   ]
  },
  {
   "cell_type": "markdown",
   "id": "1290f461",
   "metadata": {
    "id": "1290f461"
   },
   "source": [
    "Calculate total flux."
   ]
  },
  {
   "cell_type": "code",
   "execution_count": 3,
   "id": "f694bffb",
   "metadata": {
    "id": "f694bffb"
   },
   "outputs": [],
   "source": [
    "V = v1 + v2 + v3 + v4"
   ]
  },
  {
   "cell_type": "markdown",
   "id": "0bbd6b95",
   "metadata": {
    "id": "0bbd6b95"
   },
   "source": [
    "as this will came handy to define probabilites as $p_i=v_i/V$. For the entropy $H=-\\sum_i p_i\\log p_i$, we will use a helper function computing each $p_i \\log p_i$ term."
   ]
  },
  {
   "cell_type": "code",
   "execution_count": 4,
   "id": "bbfd2410",
   "metadata": {
    "id": "bbfd2410"
   },
   "outputs": [],
   "source": [
    "def entropy_term(vi, V):\n",
    "    # Returns the pilogpi term, where pi=vi/V\n",
    "    # if pi=0, pilogpi=0\n",
    "    pi=vi/V\n",
    "    return if_else(pi == 0, 0, pi * log(pi))"
   ]
  },
  {
   "cell_type": "markdown",
   "id": "b0332725",
   "metadata": {
    "id": "b0332725"
   },
   "source": [
    "Thus, we write $H$ as:"
   ]
  },
  {
   "cell_type": "code",
   "execution_count": 5,
   "id": "d69455ed",
   "metadata": {
    "id": "d69455ed"
   },
   "outputs": [],
   "source": [
    "H = -sum(entropy_term(vi, V) for vi in [v1, v2, v3, v4])"
   ]
  },
  {
   "cell_type": "markdown",
   "id": "9709aebd",
   "metadata": {
    "id": "9709aebd"
   },
   "source": [
    "Now, we need to add the mass balance constraints of metabolites `A` and `B`:"
   ]
  },
  {
   "cell_type": "code",
   "execution_count": 6,
   "id": "91ca4848",
   "metadata": {
    "id": "91ca4848"
   },
   "outputs": [],
   "source": [
    "MB_A = v1 - v2 - v3\n",
    "MB_B = v2 + v3 - v4"
   ]
  },
  {
   "cell_type": "markdown",
   "id": "fa22b3ba",
   "metadata": {
    "id": "fa22b3ba"
   },
   "source": [
    "At this stage we have the objective function, the decision variales, and mass balances. Wrapping everything into a dictionary, `nlp`, storing our non-linear programming problem."
   ]
  },
  {
   "cell_type": "code",
   "execution_count": 7,
   "id": "353443e2",
   "metadata": {
    "id": "353443e2"
   },
   "outputs": [],
   "source": [
    "nlp = {\n",
    "    'x': vertcat(v1, v2, v3, v4),  # Decision variables\n",
    "    'f': -H,                       # Objective: Maximize entropy\n",
    "    'g': vertcat(MB_A, MB_B)             # Constraints: Mass balances\n",
    "}"
   ]
  },
  {
   "cell_type": "markdown",
   "id": "96cddf62",
   "metadata": {
    "id": "96cddf62"
   },
   "source": [
    "`CasADi` uses several solvers depending on the type of optimization structure. For a non-linear optimization one, we use the `ipopt` solver."
   ]
  },
  {
   "cell_type": "code",
   "execution_count": 8,
   "id": "ec3a6140",
   "metadata": {
    "id": "ec3a6140"
   },
   "outputs": [],
   "source": [
    "solver = nlpsol('solver', 'ipopt', nlp)"
   ]
  },
  {
   "cell_type": "markdown",
   "id": "bfa80b4f",
   "metadata": {
    "id": "bfa80b4f"
   },
   "source": [
    "Finally, we run the optimization by specifying an initial guess on the desicion variables (`x0`), the variables upper (`ubx`) and lower (`lbx`) bounds, and the constraints upper (`ubg`) and lower (`lbg`) bounds."
   ]
  },
  {
   "cell_type": "code",
   "execution_count": 9,
   "id": "c85c8bce",
   "metadata": {
    "id": "c85c8bce"
   },
   "outputs": [
    {
     "name": "stdout",
     "output_type": "stream",
     "text": [
      "\n",
      "******************************************************************************\n",
      "This program contains Ipopt, a library for large-scale nonlinear optimization.\n",
      " Ipopt is released as open source code under the Eclipse Public License (EPL).\n",
      "         For more information visit https://github.com/coin-or/Ipopt\n",
      "******************************************************************************\n",
      "\n",
      "This is Ipopt version 3.14.11, running with linear solver MUMPS 5.4.1.\n",
      "\n",
      "Number of nonzeros in equality constraint Jacobian...:        5\n",
      "Number of nonzeros in inequality constraint Jacobian.:        0\n",
      "Number of nonzeros in Lagrangian Hessian.............:        6\n",
      "\n",
      "Total number of variables............................:        3\n",
      "                     variables with only lower bounds:        0\n",
      "                variables with lower and upper bounds:        3\n",
      "                     variables with only upper bounds:        0\n",
      "Total number of equality constraints.................:        2\n",
      "Total number of inequality constraints...............:        0\n",
      "        inequality constraints with only lower bounds:        0\n",
      "   inequality constraints with lower and upper bounds:        0\n",
      "        inequality constraints with only upper bounds:        0\n",
      "\n",
      "iter    objective    inf_pr   inf_du lg(mu)  ||d||  lg(rg) alpha_du alpha_pr  ls\n",
      "   0 -1.1012474e+00 1.00e-02 1.15e-01  -1.0 0.00e+00    -  0.00e+00 0.00e+00   0\n",
      "   1 -1.1186141e+00 2.08e-16 2.49e-01  -1.0 1.09e-01    -  9.90e-01 1.00e+00f  1\n",
      "   2 -1.1927373e+00 4.44e-16 1.50e-01  -1.0 7.06e-01    -  9.99e-01 1.00e+00f  1\n",
      "   3 -1.2332244e+00 4.44e-16 6.01e-02  -2.5 5.79e-01    -  5.98e-01 1.00e+00f  1\n",
      "   4 -1.3159300e+00 0.00e+00 2.24e-02  -2.5 2.18e+00    -  1.00e+00 1.00e+00f  1\n",
      "   5 -1.3295258e+00 0.00e+00 2.68e-03  -3.8 1.28e+00    -  7.50e-01 1.00e+00f  1\n",
      "   6 -1.3296613e+00 0.00e+00 1.82e-05  -3.8 1.41e-01    -  1.00e+00 1.00e+00f  1\n",
      "   7 -1.3296613e+00 0.00e+00 1.80e-09  -5.7 1.42e-03    -  1.00e+00 1.00e+00f  1\n",
      "   8 -1.3296613e+00 0.00e+00 2.53e-15  -8.6 1.69e-06    -  1.00e+00 1.00e+00f  1\n",
      "\n",
      "Number of Iterations....: 8\n",
      "\n",
      "                                   (scaled)                 (unscaled)\n",
      "Objective...............:  -1.3296613488547582e+00   -1.3296613488547582e+00\n",
      "Dual infeasibility......:   2.5295804247317892e-15    2.5295804247317892e-15\n",
      "Constraint violation....:   0.0000000000000000e+00    0.0000000000000000e+00\n",
      "Variable bound violation:   0.0000000000000000e+00    0.0000000000000000e+00\n",
      "Complementarity.........:   2.5065483742279833e-09    2.5065483742279833e-09\n",
      "Overall NLP error.......:   2.5065483742279833e-09    2.5065483742279833e-09\n",
      "\n",
      "\n",
      "Number of objective function evaluations             = 9\n",
      "Number of objective gradient evaluations             = 9\n",
      "Number of equality constraint evaluations            = 9\n",
      "Number of inequality constraint evaluations          = 0\n",
      "Number of equality constraint Jacobian evaluations   = 9\n",
      "Number of inequality constraint Jacobian evaluations = 0\n",
      "Number of Lagrangian Hessian evaluations             = 8\n",
      "Total seconds in IPOPT                               = 0.006\n",
      "\n",
      "EXIT: Optimal Solution Found.\n",
      "      solver  :   t_proc      (avg)   t_wall      (avg)    n_eval\n",
      "       nlp_f  |  26.00us (  2.89us)  26.75us (  2.97us)         9\n",
      "       nlp_g  |  36.00us (  4.00us)  22.54us (  2.50us)         9\n",
      "  nlp_grad_f  |  59.00us (  5.36us)  53.58us (  4.87us)        11\n",
      "  nlp_hess_l  | 159.00us ( 19.88us) 156.17us ( 19.52us)         8\n",
      "   nlp_jac_g  |  35.00us (  3.50us)  29.92us (  2.99us)        10\n",
      "       total  |   6.88ms (  6.88ms)   6.83ms (  6.83ms)         1\n"
     ]
    }
   ],
   "source": [
    "solution = solver(x0=[10, 10, 0, 10],\n",
    "                  ubg=0, lbg=0, # Steady-state mass balances\n",
    "                  lbx=[10, 0, 0, 0], # Fixing only v1 as 10\n",
    "                  ubx=[10, 1000, 1000, 1000])"
   ]
  },
  {
   "cell_type": "markdown",
   "id": "3d6efc51",
   "metadata": {
    "id": "3d6efc51"
   },
   "source": [
    "The message `EXIT: Optimal Solution Found` signals that `CasADi` has found the distribution of fluxes maximizing `H`. Explore the results stored in the `solution` dictionary."
   ]
  },
  {
   "cell_type": "code",
   "execution_count": 10,
   "id": "0f70f61d",
   "metadata": {
    "id": "0f70f61d"
   },
   "outputs": [
    {
     "name": "stdout",
     "output_type": "stream",
     "text": [
      "{'f': DM(-1.32966), 'g': DM([0, 0]), 'lam_g': DM([-0.00770164, 0.00770164]), 'lam_p': DM(0x0), 'lam_x': DM([7.46722e-10, -4.98791e-10, -4.98541e-10, -2.48059e-10]), 'x': DM([10, 5, 5, 10])}\n"
     ]
    }
   ],
   "source": [
    "print(solution)"
   ]
  },
  {
   "cell_type": "markdown",
   "id": "b0f248c0",
   "metadata": {
    "id": "b0f248c0"
   },
   "source": [
    "In particular, the `v1`, `v2`, `v3`, and `v4` values are stored in the key `x`."
   ]
  },
  {
   "cell_type": "code",
   "execution_count": 11,
   "id": "4bbb098b",
   "metadata": {
    "id": "4bbb098b"
   },
   "outputs": [
    {
     "name": "stdout",
     "output_type": "stream",
     "text": [
      "[10, 5, 5, 10]\n"
     ]
    }
   ],
   "source": [
    "print(solution['x'])"
   ]
  },
  {
   "cell_type": "code",
   "execution_count": null,
   "id": "2cdada2e",
   "metadata": {
    "id": "2cdada2e"
   },
   "outputs": [],
   "source": []
  }
 ],
 "metadata": {
  "colab": {
   "provenance": []
  },
  "kernelspec": {
   "display_name": "Python 3 (ipykernel)",
   "language": "python",
   "name": "python3"
  },
  "language_info": {
   "codemirror_mode": {
    "name": "ipython",
    "version": 3
   },
   "file_extension": ".py",
   "mimetype": "text/x-python",
   "name": "python",
   "nbconvert_exporter": "python",
   "pygments_lexer": "ipython3",
   "version": "3.9.6"
  }
 },
 "nbformat": 4,
 "nbformat_minor": 5
}
