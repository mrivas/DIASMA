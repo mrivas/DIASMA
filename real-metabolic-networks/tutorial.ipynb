{
 "cells": [
  {
   "cell_type": "markdown",
   "metadata": {},
   "source": [
    "# Tutorial"
   ]
  },
  {
   "cell_type": "markdown",
   "metadata": {},
   "source": [
    "## 1. Loading Pheflux\n",
    "\n",
    "The use Pheflux, go to the folder where the ```pheflux.py``` is located and load it into memory as follows:"
   ]
  },
  {
   "cell_type": "code",
   "execution_count": 3,
   "metadata": {},
   "outputs": [
    {
     "name": "stdout",
     "output_type": "stream",
     "text": [
      "Welcome to PheFlux ! \n",
      "\n"
     ]
    }
   ],
   "source": [
    "import pheflux"
   ]
  },
  {
   "cell_type": "markdown",
   "metadata": {},
   "source": [
    "## 2. Preparing the input files\n",
    "\n",
    "To run Pheflux, four inputs are needed:\n",
    "\n",
    "- ```inputFile```       : Name of the csv file with required information.\n",
    "- ```resultsDir```      : Name of the directory where output files will be stored.\n",
    "- ```verbosity```       : Verbose mode.\n",
    "- ```prefix_log_file``` : Prefix log output file."
   ]
  },
  {
   "cell_type": "markdown",
   "metadata": {},
   "source": [
    "### 2. 1 Input file\n",
    "\n",
    "The input file is a comma-separated file containing: the name of the organism, the condition, medium, gene expression file, and genome-scale metabolic network. \n",
    "\n",
    "More than one row can be defined in the same file. Pheflux will be run on the data provided for each line. For example, the input file ```examples/data/InputData_example.csv``` contains the following:\n",
    "\n",
    "| **Organism** | **Condition**          | **GeneExpFile**                                                                                        | **Medium**                           | **Network**           |\n",
    "|--------------|------------------------|--------------------------------------------------------------------------------------------------------|--------------------------------------|-----------------------|\n",
    "| Ecoli        | Glucose                | ecoli/Ecoli_Expfile_Glucose.csv                                                          | ecoli/Ecoli_Medium.csv        | ecoli/iJO1366.xml |"
   ]
  },
  {
   "cell_type": "code",
   "execution_count": 5,
   "metadata": {},
   "outputs": [],
   "source": [
    "inputFile       = \"InputData_ecoli_example.csv\"  # Name of the csv file with required information"
   ]
  },
  {
   "cell_type": "markdown",
   "metadata": {},
   "source": [
    "### 2.2 Results directory\n",
    "\n",
    "A string describing the folder where the output files will be stored. "
   ]
  },
  {
   "cell_type": "code",
   "execution_count": 13,
   "metadata": {},
   "outputs": [],
   "source": [
    "resultsDir      = \"./ecoli\" # Name of the directory where output files will be stored"
   ]
  },
  {
   "cell_type": "markdown",
   "metadata": {},
   "source": [
    "### 2.3 Verbosity\n",
    "\n",
    "Indicates whether a verbose output (```verbosity = True```) will be printed on terminal or not (```verbosity = False```)."
   ]
  },
  {
   "cell_type": "code",
   "execution_count": 14,
   "metadata": {},
   "outputs": [],
   "source": [
    "verbosity       = True # Verbose mode"
   ]
  },
  {
   "cell_type": "markdown",
   "metadata": {},
   "source": [
    "### 2.4 Prefix of Log file\n",
    "\n",
    "Pheflux also produces a log file with summary statistics of all computations. The user-provided prefix is used to name this file. For example, if ```prefix = example``` an ```example_record_XXXX.log.csv``` file will be created, where ```XXXX``` is a random four-character tag."
   ]
  },
  {
   "cell_type": "code",
   "execution_count": 15,
   "metadata": {},
   "outputs": [],
   "source": [
    "prefix_log_file = \"ecoli_fluxes\"  # Prefix log output file."
   ]
  },
  {
   "cell_type": "markdown",
   "metadata": {},
   "source": [
    "## 3. Running Pheflux\n",
    "\n",
    "With all input files defined, you are now ready to make fluxome estimations. For this, you need to used the ```getFluxes```:"
   ]
  },
  {
   "cell_type": "code",
   "execution_count": 16,
   "metadata": {},
   "outputs": [
    {
     "name": "stdout",
     "output_type": "stream",
     "text": [
      "[2025/1/14 0:42:43] Condition ejecuted: Ecoli - Glucose\n",
      "[2025/1/14 0:42:43] Loading metabolic model: iJO1366\n",
      "[2025/1/14 0:42:45] Loading transcriptomic data...\n",
      "[2025/1/14 0:42:45] Updating metabolic model...\n",
      "[2025/1/14 0:42:45] Running pheflux...\n",
      "\n",
      "Total number of variables............................:     3209\n",
      "                     variables with only lower bounds:        0\n",
      "                variables with lower and upper bounds:     3209\n",
      "                     variables with only upper bounds:        0\n",
      "Total number of equality constraints.................:     1806\n",
      "Total number of inequality constraints...............:        0\n",
      "        inequality constraints with only lower bounds:        0\n",
      "   inequality constraints with lower and upper bounds:        0\n",
      "        inequality constraints with only upper bounds:        0\n",
      "\n",
      "\n",
      "Number of Iterations....: 407\n",
      "\n",
      "                                   (scaled)                 (unscaled)\n",
      "Objective...............:  -1.0407420694343906e+04   -1.0407420694343906e+04\n",
      "Dual infeasibility......:   5.9348462975478698e-07    5.9348462975478698e-07\n",
      "Constraint violation....:   7.3056206445914574e-12    7.3056206445914574e-12\n",
      "Variable bound violation:   9.9933745101066970e-09    9.9933745101066970e-09\n",
      "Complementarity.........:   2.5059035596801255e-09    2.5059035596801255e-09\n",
      "Overall NLP error.......:   5.9348462975478698e-07    5.9348462975478698e-07\n",
      "\n",
      "\n",
      "Number of objective function evaluations             = 474\n",
      "Number of objective gradient evaluations             = 406\n",
      "Number of equality constraint evaluations            = 474\n",
      "Number of inequality constraint evaluations          = 0\n",
      "Number of equality constraint Jacobian evaluations   = 409\n",
      "Number of inequality constraint Jacobian evaluations = 0\n",
      "Number of Lagrangian Hessian evaluations             = 407\n",
      "Total seconds in IPOPT                               = 1.946\n",
      "\n",
      "EXIT: Solved To Acceptable Level.\n",
      "           F  :   t_proc      (avg)   t_wall      (avg)    n_eval\n",
      "       nlp_f  |  35.64ms ( 75.18us)  35.70ms ( 75.32us)       474\n",
      "       nlp_g  |  39.97ms ( 84.31us)  39.77ms ( 83.90us)       474\n",
      "  nlp_grad_f  |  39.80ms ( 97.56us)  39.71ms ( 97.32us)       408\n",
      "  nlp_hess_l  |  10.66ms ( 26.25us)  10.54ms ( 25.96us)       406\n",
      "   nlp_jac_g  |  47.98ms (117.02us)  48.03ms (117.14us)       410\n",
      "       total  |   1.95 s (  1.95 s)   1.95 s (  1.95 s)         1\n",
      " \n",
      "[2025/1/14 0:42:53] Saving metabolic fluxes...\n",
      "[2025/1/14 0:42:53] Ecoli - Glucose ... is processed.\n",
      "\n",
      " ====================================== o ======================================= \n",
      "\n",
      "Average time per optimization: 1.9467473030090332 s\n",
      "Average time per condition: 8.197242259979248 s\n",
      "Total process time: 0.16300630172093708 min --> ~ 0.0027167716953489514 h\n"
     ]
    },
    {
     "data": {
      "text/plain": [
       "R_EX_cm_e        -8.329286e-24\n",
       "R_EX_cmp_e       -9.946261e-09\n",
       "R_EX_co2_e        7.026146e-01\n",
       "R_EX_cobalt2_e    4.897333e-13\n",
       "R_DM_4crsol_c    -4.222368e-09\n",
       "                      ...     \n",
       "R_RNDR4           1.781141e-03\n",
       "R_RNDR4b          5.086005e-03\n",
       "R_RNTR1c2         1.455701e-03\n",
       "R_RNTR2c2         9.788372e-04\n",
       "R_RNTR3c2         4.390075e-04\n",
       "Length: 2583, dtype: float64"
      ]
     },
     "execution_count": 16,
     "metadata": {},
     "output_type": "execute_result"
    }
   ],
   "source": [
    "pheflux.getFluxes(inputFile,resultsDir,prefix_log_file,verbosity) "
   ]
  },
  {
   "cell_type": "markdown",
   "metadata": {},
   "source": [
    "## 4. What is the output\n",
    "\n",
    "Two output files are generated:\n",
    "\n",
    "- ```Organism_Condition_STATUS.fluxes.csv```: Comma-separated file containing the fluxome estimation. \n",
    "- ```Organism_Condition_STATUS.Log.csv```: Comma-separated file containing various statistics.\n",
    "\n",
    "For both files, the words ```Organism```, and ```Condition``` are extracted from the ```examples/data/InputData_example.csv``` file, and the ```STATUS``` word indicates ```IPOPT``` finalization condition."
   ]
  }
 ],
 "metadata": {
  "kernelspec": {
   "display_name": "Python 3 (ipykernel)",
   "language": "python",
   "name": "python3"
  },
  "language_info": {
   "codemirror_mode": {
    "name": "ipython",
    "version": 3
   },
   "file_extension": ".py",
   "mimetype": "text/x-python",
   "name": "python",
   "nbconvert_exporter": "python",
   "pygments_lexer": "ipython3",
   "version": "3.9.6"
  }
 },
 "nbformat": 4,
 "nbformat_minor": 4
}
